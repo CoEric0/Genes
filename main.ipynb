{
 "cells": [
  {
   "cell_type": "markdown",
   "id": "eb46a521",
   "metadata": {},
   "source": [
    "``shell\n",
    "pip install pandas numpy scikit-learn six matplotlib gmdhpy\n",
    "``"
   ]
  },
  {
   "cell_type": "code",
   "execution_count": 3,
   "id": "05e20211",
   "metadata": {},
   "outputs": [],
   "source": [
    "import pandas as pd\n",
    "from sklearn.model_selection import train_test_split\n",
    "from sklearn.preprocessing import StandardScaler, OneHotEncoder\n",
    "from sklearn.impute import SimpleImputer\n",
    "from gmdhpy.gmdh import MultilayerGMDH"
   ]
  },
  {
   "cell_type": "code",
   "execution_count": null,
   "id": "8091133c",
   "metadata": {},
   "outputs": [],
   "source": [
    "# 1. 加载数据\n",
    "clinical_data = pd.read_csv('Training_clinical_infor.txt')  # 假设临床数据文件名为此\n",
    "gene_expression_data = pd.read_csv('Training_selected_genes.txt')  # 假设基因数据文件名为此"
   ]
  },
  {
   "cell_type": "code",
   "execution_count": null,
   "id": "e66c780d",
   "metadata": {},
   "outputs": [],
   "source": [
    "\n",
    "# 2. 合并数据\n",
    "data = pd.merge(clinical_data, gene_expression_data, on='id')  # 假设'id'是公共列\n",
    "\n",
    "# 3. 分离目标变量和特征\n",
    "X = data.drop(['id', 'OS.time',''], axis=1)  # 移除ID和目标变量\n",
    "y = data['OS.time']  # 目标变量：生存时间\n"
   ]
  },
  {
   "cell_type": "code",
   "execution_count": null,
   "id": "c2b524d0",
   "metadata": {},
   "outputs": [],
   "source": [
    "\n",
    "# 4. 数据预处理\n",
    "# 定义分类特征\n",
    "categorical_features = ['subtype', 'IDH stat', 'PRS_type', 'Histology', 'Grade', \n",
    "                        'Gender', 'Radio_status', 'Chemo_status', '1p19q_codeletion_status', \n",
    "                        '2021classification_created By BZT']\n",
    "\n",
    "# 处理缺失值\n",
    "imputer = SimpleImputer(strategy='most_frequent')  # 用众数填充缺失值\n",
    "X_imputed = pd.DataFrame(imputer.fit_transform(X), columns=X.columns)\n",
    "\n",
    "# 编码分类变量\n",
    "encoder = OneHotEncoder(sparse=False, drop='first')  # 独热编码，去掉第一个类别避免共线性\n",
    "X_categorical = encoder.fit_transform(X_imputed[categorical_features])\n",
    "\n",
    "# 对数值特征进行缩放\n",
    "numerical_features = X_imputed.drop(categorical_features, axis=1)\n",
    "scaler = StandardScaler()\n",
    "X_numerical = scaler.fit_transform(numerical_features)\n",
    "\n",
    "# 合并处理后的特征\n",
    "X_final = pd.concat([pd.DataFrame(X_categorical), pd.DataFrame(X_numerical)], axis=1)\n",
    "\n",
    "# 5. 划分训练集和测试集\n",
    "X_train, X_test, y_train, y_test = train_test_split(X_final, y, test_size=0.2, random_state=42)\n",
    "\n",
    "# 6. 训练GMDH模型\n",
    "model = MultilayerGMDH()  # 初始化GMDH模型\n",
    "model.fit(X_train, y_train)  # 训练模型\n",
    "\n",
    "# 7. 模型评估\n",
    "score = model.score(X_test, y_test)  # 计算模型在测试集上的得分\n",
    "print(f'模型得分: {score}')\n",
    "\n",
    "# 8. 模型预测\n",
    "predictions = model.predict(X_test)  # 对测试集进行预测\n",
    "print(f'前5个预测值: {predictions[:5]}')"
   ]
  }
 ],
 "metadata": {
  "kernelspec": {
   "display_name": "cgenes",
   "language": "python",
   "name": "python3"
  },
  "language_info": {
   "codemirror_mode": {
    "name": "ipython",
    "version": 3
   },
   "file_extension": ".py",
   "mimetype": "text/x-python",
   "name": "python",
   "nbconvert_exporter": "python",
   "pygments_lexer": "ipython3",
   "version": "3.11.11"
  }
 },
 "nbformat": 4,
 "nbformat_minor": 5
}
