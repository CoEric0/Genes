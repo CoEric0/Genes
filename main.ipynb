{
 "cells": [
  {
   "cell_type": "code",
   "execution_count": null,
   "id": "05e20211",
   "metadata": {},
   "outputs": [],
   "source": [
    "import pandas as pd\n",
    "import numpy as np\n",
    "from gmdhpy.gmdh import MultilayerGMDH\n",
    "\n",
    "# 1. 加载数据\n",
    "gene_data = pd.read_csv('Training_clinical_infor.txt')  # 基因表达数据\n",
    "clinical_data = pd.read_csv('Training_selected_genes.csv')  # 生存时间和状态数据\n",
    "\n",
    "# 2. 合并数据\n",
    "data = pd.merge(gene_data, clinical_data, on='id')  # 假设 'id' 是样本标识列\n",
    "\n",
    "# 3. 过滤死亡样本（OS.state=1）\n",
    "data_dead = data[data['OS.state'] == 1]\n",
    "\n",
    "# 4. 准备自变量和因变量\n",
    "X = data_dead.drop(columns=['id', 'OS.time', 'OS.state'])  # 自变量：基因表达数据\n",
    "y = data_dead['OS.time']  # 因变量：生存时间\n",
    "\n",
    "# 5. 处理缺失值（如果有）\n",
    "X = X.fillna(X.mean())  # 用均值填充缺失值\n",
    "\n",
    "# 6. 划分训练集和测试集\n",
    "from sklearn.model_selection import train_test_split\n",
    "X_train, X_test, y_train, y_test = train_test_split(X, y, test_size=0.2, random_state=42)\n",
    "\n",
    "# 7. 训练 GMDH 模型\n",
    "gmdh = GMDHreg()  # 初始化 GMDH 回归模型\n",
    "gmdh.fit(X_train, y_train)  # 拟合模型\n",
    "\n",
    "# 8. 预测\n",
    "y_pred = gmdh.predict(X_test)\n",
    "\n",
    "# 9. 评估模型\n",
    "from sklearn.metrics import mean_squared_error, r2_score\n",
    "mse = mean_squared_error(y_test, y_pred)\n",
    "r2 = r2_score(y_test, y_pred)\n",
    "print(f\"均方误差 (MSE): {mse}\")\n",
    "print(f\"R² 分数: {r2}\")\n",
    "\n",
    "# 10. 查看模型选择的特征（可选）\n",
    "print(\"选择的特征:\", gmdh.selected_features_)"
   ]
  }
 ],
 "metadata": {
  "kernelspec": {
   "display_name": "cgenes",
   "language": "python",
   "name": "python3"
  },
  "language_info": {
   "name": "python",
   "version": "3.11.11"
  }
 },
 "nbformat": 4,
 "nbformat_minor": 5
}
